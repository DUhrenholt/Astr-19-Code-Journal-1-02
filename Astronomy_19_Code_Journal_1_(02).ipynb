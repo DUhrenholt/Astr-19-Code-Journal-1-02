{
 "cells": [
  {
   "cell_type": "code",
   "execution_count": 1,
   "id": "a73cc1eb",
   "metadata": {},
   "outputs": [],
   "source": [
    "import numpy as np"
   ]
  },
  {
   "cell_type": "code",
   "execution_count": 2,
   "id": "b24563b9",
   "metadata": {},
   "outputs": [],
   "source": [
    "V = 2\n",
    "W = 3\n",
    "X = 5.4\n",
    "Y = 9.0"
   ]
  },
  {
   "cell_type": "code",
   "execution_count": 3,
   "id": "0a934d54",
   "metadata": {},
   "outputs": [],
   "source": [
    "def main():\n",
    "    a = X+Y\n",
    "    print(\"The sum of \",X,\" and \",Y,\" is \",a,\"the data type of which is \",type(a))\n",
    "    \n",
    "    b = W-V\n",
    "    print(\"The difference between \",W,\" and \",V,\" is \",b,\"the data type of which is \",type(b))\n",
    "    \n",
    "    c = Y*W\n",
    "    print(\"The product of \",Y,\" and \",W,\" is \",c,\"the data type of which is \",type(c))"
   ]
  },
  {
   "cell_type": "code",
   "execution_count": 4,
   "id": "3982e9e7",
   "metadata": {},
   "outputs": [
    {
     "name": "stdout",
     "output_type": "stream",
     "text": [
      "The sum of  5.4  and  9.0  is  14.4 the data type of which is  <class 'float'>\n",
      "The difference between  3  and  2  is  1 the data type of which is  <class 'int'>\n",
      "The product of  9.0  and  3  is  27.0 the data type of which is  <class 'float'>\n"
     ]
    }
   ],
   "source": [
    "if __name__ == \"__main__\":\n",
    "    main()"
   ]
  }
 ],
 "metadata": {
  "kernelspec": {
   "display_name": "Python 3",
   "language": "python",
   "name": "python3"
  },
  "language_info": {
   "codemirror_mode": {
    "name": "ipython",
    "version": 3
   },
   "file_extension": ".py",
   "mimetype": "text/x-python",
   "name": "python",
   "nbconvert_exporter": "python",
   "pygments_lexer": "ipython3",
   "version": "3.9.4"
  }
 },
 "nbformat": 4,
 "nbformat_minor": 5
}
